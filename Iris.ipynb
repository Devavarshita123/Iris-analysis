#Check the versions of libraries 
#To know python version
import sys 
print('python: {0}'.format(sys.version))

#To know scipy version
#scipy is a free open source python library built on top of numpy, a wide array of tools for scientific and mathematical computations.
import scipy
print('scipy :{0}'.format(scipy.__version__))

#To know numpy version
#numpy : adding support for large, multi dimensional arrays and matrices along with a large collection of high level mathematical functions.
import numpy
print('numpy :{0}'.format(numpy.__version__))

#To know version of matplot library
# designed to help users visualize data in a variety of formats.
import matplotlib
print('matplotlib:{0}'.format(matplotlib.__version__))

#To know pandas version
#pandas it used for data manipulation and analysis consists of data structures and functions to perform efficient operations on data.
import pandas 
print('pandas:{0}'.format(pandas.__version__))

 #To know version of scikit learn
#scikit learn provides a simple and efficient way to perform various machine learning task
import sklearn
print('sklearn:{0}'.format(sklearn.__version__))
